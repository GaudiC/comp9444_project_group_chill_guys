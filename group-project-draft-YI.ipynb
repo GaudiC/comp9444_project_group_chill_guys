{
 "cells": [
  {
   "cell_type": "markdown",
   "id": "b86cdf87-99e2-48ef-9ded-7908fb19caab",
   "metadata": {},
   "source": [
    "<h1>COMP9444 Group Project</h1> <h3>Additional Recommendations Beyond the Marking Criteria</h3>\n",
    "<h2>Zhongyu Yi</h2>"
   ]
  },
  {
   "cell_type": "markdown",
   "id": "50e46e44-55db-4d81-a160-851065f63435",
   "metadata": {},
   "source": [
    "<h2>1. Project Introduction</h2>\n",
    "Automated classification of fashion items is crucial for various applications in the fashion industry,\r\n",
    "such as product categorization, recommendations, and search optimization. However, accurately classifying fashion\r\n",
    "items can be challenging due to the wide variety of styles, designs, and visual similarities between different categories."
   ]
  },
  {
   "cell_type": "markdown",
   "id": "e5abe194-a3db-458c-b735-6575b2edd5c7",
   "metadata": {},
   "source": [
    "<h3>Suggestion：</h3>\n",
    "This section should emphasize the significance and challenges of the project.\n",
    "It is advisable to provide a detailed account of the difficulties involved. \n",
    "In my view, the specific challenges can be progressively introduced as the model development unfolds."
   ]
  },
  {
   "cell_type": "markdown",
   "id": "da48f799-1bdd-40a0-bccb-a99c8af25d1b",
   "metadata": {},
   "source": [
    "<h3>1.1 Import the required Python libraries.</h3>"
   ]
  },
  {
   "cell_type": "code",
   "execution_count": 1,
   "id": "cc6e3754-e8ce-4caa-bbd4-bb8d93d4cb39",
   "metadata": {},
   "outputs": [
    {
     "name": "stdout",
     "output_type": "stream",
     "text": [
      "CUDA Available: True\n",
      "Using Device: cuda\n"
     ]
    }
   ],
   "source": [
    "import torch\n",
    "\n",
    "# 检查 CUDA 是否可用\n",
    "print(\"CUDA Available:\", torch.cuda.is_available())\n",
    "\n",
    "# 设置 device\n",
    "device = torch.device(\"cuda\" if torch.cuda.is_available() else \"cpu\")\n",
    "print(\"Using Device:\", device)\n"
   ]
  },
  {
   "cell_type": "code",
   "execution_count": 3,
   "id": "e7e297e9-06e7-4d24-b4fa-2e942f10e440",
   "metadata": {},
   "outputs": [],
   "source": [
    "# 如果尚未安装，请取消注释下面两行安装\n",
    "# !pip install torch torchvision tqdm\n",
    "\n",
    "import os\n",
    "import json\n",
    "from tqdm import tqdm\n",
    "import torch\n",
    "import torch.nn as nn\n",
    "import torch.optim as optim\n",
    "from torch.utils.data import Dataset, DataLoader\n",
    "from torchvision import transforms, datasets\n",
    "from PIL import Image\n"
   ]
  },
  {
   "cell_type": "markdown",
   "id": "c8519719-4906-4e43-bc47-3927622bbaae",
   "metadata": {},
   "source": [
    "<h2>2. Dataset Preparation and Loading</h2>"
   ]
  },
  {
   "cell_type": "markdown",
   "id": "8563f888-deaa-4718-8b1d-f4f93b0ec0d9",
   "metadata": {},
   "source": [
    "<h3>Suggestion:</h3>\n",
    "Read and display a subset of the data within the notebook.\n",
    "The source link of the dataset should be clearly provided."
   ]
  },
  {
   "cell_type": "markdown",
   "id": "cb4cc91b-9151-4d0c-b50f-a1cea219f899",
   "metadata": {},
   "source": [
    "<h2>3. Exploratory Data Analysis</h2>"
   ]
  },
  {
   "cell_type": "markdown",
   "id": "19b21f75-3446-4608-8dff-324d8894b342",
   "metadata": {},
   "source": [
    "<h3>Sugesstion:</h3>\n",
    "Data analysis is more about exploring and trying things out — it doesn’t have to be directly related to the main task. You can search “EDA with Python” on Kaggle to find code you can use right away.\n",
    "\n",
    "Generally, it’s best to show things using visualizations — like bar charts or pie charts to show the different types of image labels.\n",
    "\n",
    "The commonly used analysis methods are pretty standard, so you can often just plug in some ready-made code."
   ]
  },
  {
   "cell_type": "markdown",
   "id": "e673285a-3723-4f7d-ab60-7730d89711d5",
   "metadata": {},
   "source": [
    "<h3>3.1 Data preprocessing</h3>\n",
    "The training data we’re using seems to be already preprocessed, so I’m not sure if we actually need to do this step."
   ]
  },
  {
   "cell_type": "markdown",
   "id": "f548f541-39cc-43d8-9929-5c097bbd72f3",
   "metadata": {},
   "source": [
    "<h3>3.2 Split the dataset into training and testing sets.</h2>"
   ]
  },
  {
   "cell_type": "markdown",
   "id": "2a9d5bba-3eab-42da-ba4a-93eea19d0572",
   "metadata": {},
   "source": [
    "<h2>4. Construct a deep learning model</h2>"
   ]
  },
  {
   "cell_type": "markdown",
   "id": "3e48c800-fee0-45a0-8657-8637608220da",
   "metadata": {},
   "source": [
    "<h3>Suggestion: </h3>\n",
    "When choosing a model, it’s important to have a baseline for comparison.\n",
    "\n",
    "Explain how our model is different in structure from the others. Talk about the key hyperparameters too.\n",
    "\n",
    "It’s best to include a **diagram and formula** to show our model’s structure.\n",
    "In the end, explain why we chose this kind of structure."
   ]
  },
  {
   "cell_type": "markdown",
   "id": "3875de31-3a5d-4718-a543-e685570c19a1",
   "metadata": {},
   "source": [
    "**The task requires us to use a CNN model**, so we can only make comparisons within the CNN category."
   ]
  },
  {
   "cell_type": "markdown",
   "id": "bc139251-3c83-4b9c-95de-5ef23924ad9d",
   "metadata": {},
   "source": [
    "For explaining the model, it’s best to **show the formulas step by step** — especially the ones covered in the lecture."
   ]
  },
  {
   "cell_type": "markdown",
   "id": "0cd61293-2cb2-44dd-bf3e-cc5df0e2e66a",
   "metadata": {},
   "source": [
    "<h2>4.1 Comparison of Different CNN Models</h2>\n",
    "Explain how our model is different in structure from the others. Talk about the key hyperparameters too.\n",
    "Also need to explain the structure.\n",
    "\n",
    "This part will **also be used in the literature review.**"
   ]
  },
  {
   "cell_type": "markdown",
   "id": "5ff35646-fd1c-477f-9464-d3b820548948",
   "metadata": {},
   "source": [
    "<h2>4.2 Model Selection</h2>\n",
    "\n",
    "It’s best to include a __diagram and formula__ to show our model’s structure.\n",
    "In the end, explain why we chose this kind of structure."
   ]
  },
  {
   "cell_type": "markdown",
   "id": "f287278f-8f9f-4c05-98cf-33477e90ea69",
   "metadata": {},
   "source": [
    "<h2>4.3Model Implementation</h2>\n",
    "For explaining the model, it’s best to show the formulas step by step — especially the ones covered in the lecture."
   ]
  },
  {
   "cell_type": "markdown",
   "id": "0a740cf7-34ff-4d4b-9148-b919f0b3fe80",
   "metadata": {},
   "source": [
    "<h2>5. Result</h2>"
   ]
  },
  {
   "cell_type": "markdown",
   "id": "49ae3109-fe5c-41e0-9b1c-765399eed3a7",
   "metadata": {},
   "source": [
    "<h3>Suguestion:</h3>\n",
    "In this section, we should compare and analyze the results of the baseline model with our model."
   ]
  },
  {
   "cell_type": "markdown",
   "id": "dfafb15f-c2a3-46a6-a4c8-d63c609b710d",
   "metadata": {},
   "source": [
    "<h2>6. Discussion</h2>"
   ]
  },
  {
   "cell_type": "code",
   "execution_count": null,
   "id": "78f591f4-3177-492a-8740-7e772b96cc9a",
   "metadata": {},
   "outputs": [],
   "source": []
  }
 ],
 "metadata": {
  "kernelspec": {
   "display_name": "Python 3 (ipykernel)",
   "language": "python",
   "name": "python3"
  },
  "language_info": {
   "codemirror_mode": {
    "name": "ipython",
    "version": 3
   },
   "file_extension": ".py",
   "mimetype": "text/x-python",
   "name": "python",
   "nbconvert_exporter": "python",
   "pygments_lexer": "ipython3",
   "version": "3.11.7"
  }
 },
 "nbformat": 4,
 "nbformat_minor": 5
}
