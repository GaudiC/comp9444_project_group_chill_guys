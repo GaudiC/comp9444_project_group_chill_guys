{
  "nbformat": 4,
  "nbformat_minor": 0,
  "metadata": {
    "colab": {
      "provenance": [],
      "authorship_tag": "ABX9TyPSC9HRS5dU+ZQIENp4OolZ",
      "include_colab_link": true
    },
    "kernelspec": {
      "name": "python3",
      "display_name": "Python 3"
    },
    "language_info": {
      "name": "python"
    }
  },
  "cells": [
    {
      "cell_type": "markdown",
      "metadata": {
        "id": "view-in-github",
        "colab_type": "text"
      },
      "source": [
        "<a href=\"https://colab.research.google.com/github/GaudiC/comp9444_project_group_chill_guys/blob/jae/ProjectNotebook_Jae_draft.ipynb\" target=\"_parent\"><img src=\"https://colab.research.google.com/assets/colab-badge.svg\" alt=\"Open In Colab\"/></a>"
      ]
    },
    {
      "cell_type": "markdown",
      "source": [
        "# COMP9444 Group Project – Fashion Item Classification (AttributeNet)\n",
        "\n",
        "## 1. Project Introduction\n",
        "\n",
        "Fashion item classification plays a vital role in product cataloging, recommendation systems, and style-based retrieval.  \n",
        "We aim to develop a CNN-based classification model (AttributeNet) to predict hierarchical labels (major_class / sub_class) from fashion images.  \n",
        "Our dataset is repurposed from FashionAI's LAT & AAT sets and relabeled into a classification-ready format.\n",
        "\n",
        "---\n",
        "\n",
        "## 2. Dataset Preparation\n",
        "\n",
        "- Unified image directory: `data/processed_images/unified/`\n",
        "- Label file: `data/labels/final_labels.json`\n",
        "- Total images: ~XXXX\n",
        "\n",
        "```python\n",
        "# Load basic libraries\n",
        "import os, json, pandas as pd\n",
        "from PIL import Image\n",
        "import matplotlib.pyplot as plt\n",
        "\n",
        "# Load labels\n",
        "with open(\"data/labels/final_labels.json\") as f:\n",
        "    labels = json.load(f)\n",
        "\n",
        "print(f\"Total images: {len(labels)}\")\n",
        "labels[:2]\n"
      ],
      "metadata": {
        "id": "UaLLA3lj0byx"
      }
    },
    {
      "cell_type": "code",
      "source": [
        "# Major class distribution\n",
        "import seaborn as sns\n",
        "\n",
        "df = pd.DataFrame(labels)\n",
        "plt.figure(figsize=(10,5))\n",
        "sns.countplot(x=\"major_class\", data=df)\n",
        "plt.title(\"Distribution of Major Classes\")\n",
        "plt.xticks(rotation=45)\n",
        "plt.show()\n"
      ],
      "metadata": {
        "id": "Pu9J3KwMxP-y"
      },
      "execution_count": null,
      "outputs": []
    },
    {
      "cell_type": "markdown",
      "source": [
        "4. Model: AttributeNet (Design Overview)\n",
        "We use AttributeNet (FashionAI, CVPRW 2019) which predicts each fashion attribute via a separate softmax output.\n",
        "Each image is associated with a major class (e.g., dress) and optional sub class (e.g., a-line).\n",
        "We design the model as a multi-output CNN with one output per attribute dimension."
      ],
      "metadata": {
        "id": "9B9QUzt_0Z9M"
      }
    },
    {
      "cell_type": "markdown",
      "source": [
        "5. Results\n",
        "(Accuracy, Loss Curve, Confusion Matrix to be added later)"
      ],
      "metadata": {
        "id": "yZn1-LI70g8V"
      }
    },
    {
      "cell_type": "markdown",
      "source": [
        "6. Discussion\n",
        "Which classes performed best?\n",
        "\n",
        "Where did the model struggle?\n",
        "\n",
        "How could we improve (data imbalance, augmentation, deeper CNN)?\n",
        "\n"
      ],
      "metadata": {
        "id": "aBk60coC0oGU"
      }
    }
  ]
}